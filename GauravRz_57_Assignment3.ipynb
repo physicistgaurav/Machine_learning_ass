{
  "cells": [
    {
      "cell_type": "markdown",
      "metadata": {
        "id": "view-in-github",
        "colab_type": "text"
      },
      "source": [
        "<a href=\"https://colab.research.google.com/github/physicistgaurav/Machine_learning_ass/blob/ass3/GauravRz_57_Assignment3.ipynb\" target=\"_parent\"><img src=\"https://colab.research.google.com/assets/colab-badge.svg\" alt=\"Open In Colab\"/></a>"
      ]
    },
    {
      "cell_type": "markdown",
      "metadata": {
        "id": "1tRNff8rlrR6"
      },
      "source": [
        "##COMP 484 - Machine Learning (Practical Assignment III)\n",
        "\n",
        "###Gaurav Rizal\n",
        "###Roll no: 57\n",
        "###CE IV/I\n",
        "\n"
      ]
    },
    {
      "cell_type": "code",
      "execution_count": 1,
      "metadata": {
        "id": "aPEyajmwkxTt"
      },
      "outputs": [],
      "source": [
        "from sklearn.feature_extraction.text import CountVectorizer\n",
        "vectorizer = CountVectorizer(min_df=1)"
      ]
    },
    {
      "cell_type": "code",
      "source": [
        "print(vectorizer)\n",
        "CountVectorizer(analyzer='word', binary=False, decode_error='strict',\n",
        "  encoding='utf-8', input='content',\n",
        "  lowercase=True, max_df=1.0, max_features=None, min_df=1,\n",
        "  ngram_range=(1, 1), preprocessor=None, stop_words=None,\n",
        "  strip_accents=None, token_pattern='(?u)\\b\\w\\w+\\b',\n",
        "  tokenizer=None, vocabulary=None)"
      ],
      "metadata": {
        "colab": {
          "base_uri": "https://localhost:8080/"
        },
        "id": "KybsNSlWy_zz",
        "outputId": "a925d84e-3796-4006-c3f1-b876e4bff993"
      },
      "execution_count": 2,
      "outputs": [
        {
          "output_type": "stream",
          "name": "stdout",
          "text": [
            "CountVectorizer()\n"
          ]
        },
        {
          "output_type": "execute_result",
          "data": {
            "text/plain": [
              "CountVectorizer(token_pattern='(?u)\\x08\\\\w\\\\w+\\x08')"
            ]
          },
          "metadata": {},
          "execution_count": 2
        }
      ]
    },
    {
      "cell_type": "code",
      "source": [
        "content = [\"How to format my hard disk\",\n",
        "\" Hard disk format problems \"]"
      ],
      "metadata": {
        "id": "PczGNLvXzOhg"
      },
      "execution_count": 3,
      "outputs": []
    },
    {
      "cell_type": "code",
      "source": [
        "X = vectorizer.fit_transform(content)\n",
        "vectorizer.get_feature_names_out()\n",
        "['disk', 'format', 'hard', 'how', 'my', 'problems', 'to']"
      ],
      "metadata": {
        "colab": {
          "base_uri": "https://localhost:8080/"
        },
        "id": "B3lFSBOjzVN_",
        "outputId": "036af14a-fac2-4c78-cab7-681172c0c36d"
      },
      "execution_count": 4,
      "outputs": [
        {
          "output_type": "execute_result",
          "data": {
            "text/plain": [
              "['disk', 'format', 'hard', 'how', 'my', 'problems', 'to']"
            ]
          },
          "metadata": {},
          "execution_count": 4
        }
      ]
    },
    {
      "cell_type": "code",
      "source": [
        "print(X.toarray().transpose())"
      ],
      "metadata": {
        "colab": {
          "base_uri": "https://localhost:8080/"
        },
        "id": "iE3V4vNlzV0r",
        "outputId": "fd6d8eb3-877a-45a6-a97c-dbed936c4e4f"
      },
      "execution_count": 5,
      "outputs": [
        {
          "output_type": "stream",
          "name": "stdout",
          "text": [
            "[[1 1]\n",
            " [1 1]\n",
            " [1 1]\n",
            " [1 0]\n",
            " [1 0]\n",
            " [0 1]\n",
            " [1 0]]\n"
          ]
        }
      ]
    },
    {
      "cell_type": "code",
      "source": [
        "import sklearn.datasets\n",
        "all_data = sklearn.datasets.fetch_20newsgroups(subset='all')"
      ],
      "metadata": {
        "id": "k5cQATfOzipz"
      },
      "execution_count": 6,
      "outputs": []
    },
    {
      "cell_type": "code",
      "source": [
        "\n",
        "print(len(all_data.filenames))\n",
        "18846\n",
        "print(all_data.target_names)"
      ],
      "metadata": {
        "colab": {
          "base_uri": "https://localhost:8080/"
        },
        "id": "oKrRGqtF7HM2",
        "outputId": "11c7a5e9-d28e-47e3-dc4a-335a8f64973f"
      },
      "execution_count": 7,
      "outputs": [
        {
          "output_type": "stream",
          "name": "stdout",
          "text": [
            "18846\n",
            "['alt.atheism', 'comp.graphics', 'comp.os.ms-windows.misc', 'comp.sys.ibm.pc.hardware', 'comp.sys.mac.hardware', 'comp.windows.x', 'misc.forsale', 'rec.autos', 'rec.motorcycles', 'rec.sport.baseball', 'rec.sport.hockey', 'sci.crypt', 'sci.electronics', 'sci.med', 'sci.space', 'soc.religion.christian', 'talk.politics.guns', 'talk.politics.mideast', 'talk.politics.misc', 'talk.religion.misc']\n"
          ]
        }
      ]
    },
    {
      "cell_type": "code",
      "source": [
        "train_data = sklearn.datasets.fetch_20newsgroups(subset='train')\n",
        "print(len(train_data.filenames))"
      ],
      "metadata": {
        "colab": {
          "base_uri": "https://localhost:8080/"
        },
        "id": "lqZqVRUb7NDm",
        "outputId": "8b2e0774-348b-481e-da8c-565421b09260"
      },
      "execution_count": 8,
      "outputs": [
        {
          "output_type": "stream",
          "name": "stdout",
          "text": [
            "11314\n"
          ]
        }
      ]
    },
    {
      "cell_type": "code",
      "source": [
        "test_data = sklearn.datasets.fetch_20newsgroups(subset='test')\n",
        "print(len(test_data.filenames))"
      ],
      "metadata": {
        "colab": {
          "base_uri": "https://localhost:8080/"
        },
        "id": "LBrrS_2T7P_3",
        "outputId": "2c3c405c-5634-4b53-c2af-cb63e46b6145"
      },
      "execution_count": 9,
      "outputs": [
        {
          "output_type": "stream",
          "name": "stdout",
          "text": [
            "7532\n"
          ]
        }
      ]
    },
    {
      "cell_type": "code",
      "source": [
        "groups = ['comp.graphics', 'comp.os.ms-windows.misc',\n",
        "'comp.sys.ibm.pc.hardware', 'comp.sys.mac.hardware',\n",
        "'comp.windows.x', 'sci.space']\n",
        "train_data = sklearn.datasets.fetch_20newsgroups(subset='train',\n",
        "  categories=groups)\n",
        "print(len(train_data.filenames))"
      ],
      "metadata": {
        "colab": {
          "base_uri": "https://localhost:8080/"
        },
        "id": "vFp-Bwtz7ThM",
        "outputId": "2605e73c-1054-4e50-d85d-29667afcc88c"
      },
      "execution_count": 10,
      "outputs": [
        {
          "output_type": "stream",
          "name": "stdout",
          "text": [
            "3529\n"
          ]
        }
      ]
    },
    {
      "cell_type": "code",
      "source": [
        "test_data = sklearn.datasets.fetch_20newsgroups(subset='test',\n",
        "  categories=groups)\n",
        "print(len(test_data.filenames))"
      ],
      "metadata": {
        "colab": {
          "base_uri": "https://localhost:8080/"
        },
        "id": "HLNwsjNr7o3p",
        "outputId": "2ee995f3-99f1-47fb-d520-0f62346791c2"
      },
      "execution_count": 11,
      "outputs": [
        {
          "output_type": "stream",
          "name": "stdout",
          "text": [
            "2349\n"
          ]
        }
      ]
    },
    {
      "cell_type": "code",
      "source": [
        "from sklearn.feature_extraction.text import TfidfVectorizer\n",
        "import numpy as np\n",
        "\n",
        "vectorizer = TfidfVectorizer(min_df=10, max_df=0.5,\n",
        "  stop_words='english', decode_error='ignore')\n",
        "vectorized = vectorizer.fit_transform(train_data.data)"
      ],
      "metadata": {
        "id": "kkLHV0q37pmJ"
      },
      "execution_count": 12,
      "outputs": []
    },
    {
      "cell_type": "code",
      "source": [
        "\n",
        "num_samples, num_features = vectorized.shape\n",
        "print(\"#samples: %d, #features: %d\" % (num_samples, num_features))"
      ],
      "metadata": {
        "colab": {
          "base_uri": "https://localhost:8080/"
        },
        "id": "AIVB2RiV70MN",
        "outputId": "ad09b850-d3c6-4503-edbc-6f6217bddf1e"
      },
      "execution_count": 13,
      "outputs": [
        {
          "output_type": "stream",
          "name": "stdout",
          "text": [
            "#samples: 3529, #features: 5651\n"
          ]
        }
      ]
    },
    {
      "cell_type": "markdown",
      "source": [
        "#Clustering"
      ],
      "metadata": {
        "id": "nhj1_Z4ahO5w"
      }
    },
    {
      "cell_type": "code",
      "source": [
        "num_clusters = 50"
      ],
      "metadata": {
        "id": "lBUEsehi8XPb"
      },
      "execution_count": 14,
      "outputs": []
    },
    {
      "cell_type": "code",
      "source": [
        "from sklearn.cluster import KMeans\n",
        "\n",
        "km = KMeans(n_clusters=num_clusters, n_init=1, verbose=1, random_state=3)\n",
        "km.fit(vectorized)"
      ],
      "metadata": {
        "colab": {
          "base_uri": "https://localhost:8080/"
        },
        "id": "pb9fdYVy8aj2",
        "outputId": "8dc0c6cc-7c0c-4dd7-829b-32e35f0c112c"
      },
      "execution_count": 15,
      "outputs": [
        {
          "output_type": "stream",
          "name": "stdout",
          "text": [
            "Initialization complete\n",
            "Iteration 0, inertia 5781.780937828152\n",
            "Iteration 1, inertia 3197.4191227288347\n",
            "Iteration 2, inertia 3168.9434563334053\n",
            "Iteration 3, inertia 3155.4413719651798\n",
            "Iteration 4, inertia 3145.892759623257\n",
            "Iteration 5, inertia 3138.8337664607725\n",
            "Iteration 6, inertia 3133.3548343372986\n",
            "Iteration 7, inertia 3129.2509028470845\n",
            "Iteration 8, inertia 3127.8078194401733\n",
            "Iteration 9, inertia 3126.403970222413\n",
            "Iteration 10, inertia 3125.305393247142\n",
            "Iteration 11, inertia 3124.8296716505074\n",
            "Iteration 12, inertia 3124.618886502798\n",
            "Iteration 13, inertia 3124.5530964517634\n",
            "Converged at iteration 13: strict convergence.\n"
          ]
        },
        {
          "output_type": "execute_result",
          "data": {
            "text/plain": [
              "KMeans(n_clusters=50, n_init=1, random_state=3, verbose=1)"
            ]
          },
          "metadata": {},
          "execution_count": 15
        }
      ]
    },
    {
      "cell_type": "code",
      "source": [
        "print(\"km.labels_=%s\" % km.labels_)\n",
        "# km.labels_=[48 23 31 ..., 6 2 22]\n",
        "# print(\"km.labels_.shape=%s\" % km.labels_.shape)\n",
        "# km.labels_.shape=3529"
      ],
      "metadata": {
        "colab": {
          "base_uri": "https://localhost:8080/"
        },
        "id": "tmoXNMIva1n7",
        "outputId": "1741dbd5-a59c-45ac-98fa-43205918e80c"
      },
      "execution_count": 16,
      "outputs": [
        {
          "output_type": "stream",
          "name": "stdout",
          "text": [
            "km.labels_=[48 23 49 ... 23 10 29]\n"
          ]
        }
      ]
    },
    {
      "cell_type": "code",
      "source": [
        "new_post = '''\n",
        "  Disk drive problems. Hi, I have a problem with my hard disk.\n",
        "  After 1 year it is working only sporadically now.\n",
        "  I tried to format it, but now it doesn't boot any more.\n",
        "  Any ideas? Thanks. \n",
        "'''"
      ],
      "metadata": {
        "id": "vWlEcSnF9Qxs"
      },
      "execution_count": 17,
      "outputs": []
    },
    {
      "cell_type": "code",
      "source": [
        "new_post_vec = vectorizer.transform([new_post])\n",
        "new_post_label = km.predict(new_post_vec)[0]\n",
        "new_post_label"
      ],
      "metadata": {
        "colab": {
          "base_uri": "https://localhost:8080/"
        },
        "id": "62drw_719XvB",
        "outputId": "25bd806d-fe6f-45de-a534-7b1c8c13153c"
      },
      "execution_count": 18,
      "outputs": [
        {
          "output_type": "execute_result",
          "data": {
            "text/plain": [
              "46"
            ]
          },
          "metadata": {},
          "execution_count": 18
        }
      ]
    },
    {
      "cell_type": "code",
      "source": [
        "np.array(km.labels_) == new_post_label"
      ],
      "metadata": {
        "colab": {
          "base_uri": "https://localhost:8080/"
        },
        "id": "Hu7hRpr4akqN",
        "outputId": "04f444a5-1ec1-48c1-a16e-4d2b94dad229"
      },
      "execution_count": 19,
      "outputs": [
        {
          "output_type": "execute_result",
          "data": {
            "text/plain": [
              "array([False, False, False, ..., False, False, False])"
            ]
          },
          "metadata": {},
          "execution_count": 19
        }
      ]
    },
    {
      "cell_type": "code",
      "source": [
        "post_group = zip(train_data.data, train_data.target)\n",
        "all = [(len(post[0]), post[0], train_data.target_names[post[1]]) for post in post_group]\n",
        "graphics = sorted([post for post in all if post[2]=='comp.graphics'])\n",
        "print(graphics[5])"
      ],
      "metadata": {
        "colab": {
          "base_uri": "https://localhost:8080/"
        },
        "id": "n16caGPj9f_R",
        "outputId": "bdd27262-7559-4df1-86c5-0a82de73a360"
      },
      "execution_count": 20,
      "outputs": [
        {
          "output_type": "stream",
          "name": "stdout",
          "text": [
            "(245, 'From: SITUNAYA@IBM3090.BHAM.AC.UK\\nSubject: test....(sorry)\\nOrganization: The University of Birmingham, United Kingdom\\nLines: 1\\nNNTP-Posting-Host: ibm3090.bham.ac.uk\\n\\n==============================================================================\\n', 'comp.graphics')\n"
          ]
        }
      ]
    },
    {
      "cell_type": "code",
      "source": [
        "noise_post = graphics[5][1]\n",
        "analyzer = vectorizer.build_analyzer()\n",
        "print(list(analyzer(noise_post)))"
      ],
      "metadata": {
        "colab": {
          "base_uri": "https://localhost:8080/"
        },
        "id": "3hPPT2l2gl8M",
        "outputId": "e52d6ae8-c86b-4dd5-a21d-89d9e93c59a8"
      },
      "execution_count": 21,
      "outputs": [
        {
          "output_type": "stream",
          "name": "stdout",
          "text": [
            "['situnaya', 'ibm3090', 'bham', 'ac', 'uk', 'subject', 'test', 'sorry', 'organization', 'university', 'birmingham', 'united', 'kingdom', 'lines', 'nntp', 'posting', 'host', 'ibm3090', 'bham', 'ac', 'uk']\n"
          ]
        }
      ]
    },
    {
      "cell_type": "code",
      "source": [
        "useful = set(analyzer(noise_post)).intersection(vectorizer.get_feature_names())\n",
        "print(sorted(useful))"
      ],
      "metadata": {
        "colab": {
          "base_uri": "https://localhost:8080/"
        },
        "id": "2JzhU7QBgvST",
        "outputId": "f1e87da3-a708-4cdc-bc28-e045d01e1070"
      },
      "execution_count": 22,
      "outputs": [
        {
          "output_type": "stream",
          "name": "stdout",
          "text": [
            "['ac', 'birmingham', 'host', 'kingdom', 'nntp', 'posting', 'sorry', 'test', 'uk', 'united', 'university']\n"
          ]
        },
        {
          "output_type": "stream",
          "name": "stderr",
          "text": [
            "/usr/local/lib/python3.7/dist-packages/sklearn/utils/deprecation.py:87: FutureWarning: Function get_feature_names is deprecated; get_feature_names is deprecated in 1.0 and will be removed in 1.2. Please use get_feature_names_out instead.\n",
            "  warnings.warn(msg, category=FutureWarning)\n"
          ]
        }
      ]
    },
    {
      "cell_type": "code",
      "source": [
        "for term in sorted(useful):\n",
        "  print('IDF(%-10s) = %.2f' % (term,\n",
        "  vectorizer._tfidf.idf_[vectorizer.vocabulary_[term]]))"
      ],
      "metadata": {
        "colab": {
          "base_uri": "https://localhost:8080/"
        },
        "id": "ttzZx36dhCv7",
        "outputId": "95da8351-199f-4233-daaa-8001fc33c716"
      },
      "execution_count": 23,
      "outputs": [
        {
          "output_type": "stream",
          "name": "stdout",
          "text": [
            "IDF(ac        ) = 3.66\n",
            "IDF(birmingham) = 6.77\n",
            "IDF(host      ) = 1.74\n",
            "IDF(kingdom   ) = 6.68\n",
            "IDF(nntp      ) = 1.77\n",
            "IDF(posting   ) = 1.72\n",
            "IDF(sorry     ) = 4.14\n",
            "IDF(test      ) = 4.33\n",
            "IDF(uk        ) = 3.70\n",
            "IDF(united    ) = 5.61\n",
            "IDF(university) = 1.92\n"
          ]
        }
      ]
    },
    {
      "cell_type": "markdown",
      "source": [
        "So, the terms with the highest discriminative power, birmingham and kingdom, are clearly not that\n",
        "computer graphics related, as is the case with the terms with lower IDF scores. Understandably,\n",
        "posts from different newsgroups will be clustered together."
      ],
      "metadata": {
        "id": "IzUZ15bXhI-T"
      }
    }
  ],
  "metadata": {
    "colab": {
      "name": "GauravRz_57_Assignment3.ipynb",
      "provenance": [],
      "include_colab_link": true
    },
    "kernelspec": {
      "display_name": "Python 3",
      "name": "python3"
    },
    "language_info": {
      "name": "python"
    }
  },
  "nbformat": 4,
  "nbformat_minor": 0
}